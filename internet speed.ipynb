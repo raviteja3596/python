{
 "cells": [
  {
   "cell_type": "code",
   "execution_count": 2,
   "id": "b0bd12a8",
   "metadata": {},
   "outputs": [],
   "source": [
    "import pandas as pd\n",
    "import matplotlib.pyplot as plt\n",
    "%matplotlib inline\n",
    "import numpy as np\n",
    "import seaborn as sns"
   ]
  },
  {
   "cell_type": "code",
   "execution_count": 56,
   "id": "3ad9967f",
   "metadata": {},
   "outputs": [
    {
     "data": {
      "text/html": [
       "<div>\n",
       "<style scoped>\n",
       "    .dataframe tbody tr th:only-of-type {\n",
       "        vertical-align: middle;\n",
       "    }\n",
       "\n",
       "    .dataframe tbody tr th {\n",
       "        vertical-align: top;\n",
       "    }\n",
       "\n",
       "    .dataframe thead th {\n",
       "        text-align: right;\n",
       "    }\n",
       "</style>\n",
       "<table border=\"1\" class=\"dataframe\">\n",
       "  <thead>\n",
       "    <tr style=\"text-align: right;\">\n",
       "      <th></th>\n",
       "      <th>Service Provider</th>\n",
       "      <th>Technology</th>\n",
       "      <th>Test_type</th>\n",
       "      <th>Data Speed(Mbps)</th>\n",
       "      <th>Signal_strength</th>\n",
       "      <th>LSA</th>\n",
       "    </tr>\n",
       "  </thead>\n",
       "  <tbody>\n",
       "    <tr>\n",
       "      <th>0</th>\n",
       "      <td>JIO</td>\n",
       "      <td>4G</td>\n",
       "      <td>Upload</td>\n",
       "      <td>7.30</td>\n",
       "      <td>-63</td>\n",
       "      <td>Andhra Pradesh</td>\n",
       "    </tr>\n",
       "    <tr>\n",
       "      <th>1</th>\n",
       "      <td>JIO</td>\n",
       "      <td>4G</td>\n",
       "      <td>Upload</td>\n",
       "      <td>7.31</td>\n",
       "      <td>-65</td>\n",
       "      <td>Andhra Pradesh</td>\n",
       "    </tr>\n",
       "    <tr>\n",
       "      <th>2</th>\n",
       "      <td>JIO</td>\n",
       "      <td>4G</td>\n",
       "      <td>Upload</td>\n",
       "      <td>6.91</td>\n",
       "      <td>-65</td>\n",
       "      <td>Andhra Pradesh</td>\n",
       "    </tr>\n",
       "    <tr>\n",
       "      <th>3</th>\n",
       "      <td>VODAFONE</td>\n",
       "      <td>4G</td>\n",
       "      <td>Download</td>\n",
       "      <td>7.73</td>\n",
       "      <td>-90</td>\n",
       "      <td>Maharashtra</td>\n",
       "    </tr>\n",
       "    <tr>\n",
       "      <th>4</th>\n",
       "      <td>VODAFONE</td>\n",
       "      <td>4G</td>\n",
       "      <td>Download</td>\n",
       "      <td>6.92</td>\n",
       "      <td>-90</td>\n",
       "      <td>Maharashtra</td>\n",
       "    </tr>\n",
       "  </tbody>\n",
       "</table>\n",
       "</div>"
      ],
      "text/plain": [
       "  Service Provider Technology Test_type  Data Speed(Mbps) Signal_strength  \\\n",
       "0              JIO         4G    Upload              7.30             -63   \n",
       "1              JIO         4G    Upload              7.31             -65   \n",
       "2              JIO         4G    Upload              6.91             -65   \n",
       "3         VODAFONE         4G  Download              7.73             -90   \n",
       "4         VODAFONE         4G  Download              6.92             -90   \n",
       "\n",
       "              LSA  \n",
       "0  Andhra Pradesh  \n",
       "1  Andhra Pradesh  \n",
       "2  Andhra Pradesh  \n",
       "3     Maharashtra  \n",
       "4     Maharashtra  "
      ]
     },
     "execution_count": 56,
     "metadata": {},
     "output_type": "execute_result"
    }
   ],
   "source": [
    "df = pd.read_csv('./march18_myspeed_internet.csv')\n",
    "df.head()"
   ]
  },
  {
   "cell_type": "code",
   "execution_count": 57,
   "id": "84dd0eba",
   "metadata": {},
   "outputs": [
    {
     "data": {
      "text/plain": [
       "Service Provider    0\n",
       "Technology          0\n",
       "Test_type           0\n",
       "Data Speed(Mbps)    0\n",
       "Signal_strength     0\n",
       "LSA                 0\n",
       "dtype: int64"
      ]
     },
     "execution_count": 57,
     "metadata": {},
     "output_type": "execute_result"
    }
   ],
   "source": [
    "df1 = df.isnull().sum()\n",
    "df1"
   ]
  },
  {
   "cell_type": "code",
   "execution_count": 58,
   "id": "08acef43",
   "metadata": {},
   "outputs": [
    {
     "data": {
      "text/plain": [
       "(1322972, 6)"
      ]
     },
     "execution_count": 58,
     "metadata": {},
     "output_type": "execute_result"
    }
   ],
   "source": [
    "df.shape"
   ]
  },
  {
   "cell_type": "code",
   "execution_count": 59,
   "id": "627253bb",
   "metadata": {},
   "outputs": [
    {
     "name": "stdout",
     "output_type": "stream",
     "text": [
      "<class 'pandas.core.frame.DataFrame'>\n",
      "RangeIndex: 1322972 entries, 0 to 1322971\n",
      "Data columns (total 6 columns):\n",
      " #   Column            Non-Null Count    Dtype  \n",
      "---  ------            --------------    -----  \n",
      " 0   Service Provider  1322972 non-null  object \n",
      " 1   Technology        1322972 non-null  object \n",
      " 2   Test_type         1322972 non-null  object \n",
      " 3   Data Speed(Mbps)  1322972 non-null  float64\n",
      " 4   Signal_strength   1322972 non-null  object \n",
      " 5   LSA               1322972 non-null  object \n",
      "dtypes: float64(1), object(5)\n",
      "memory usage: 60.6+ MB\n"
     ]
    }
   ],
   "source": [
    "df.info()"
   ]
  },
  {
   "cell_type": "code",
   "execution_count": 60,
   "id": "021b7cb2",
   "metadata": {},
   "outputs": [
    {
     "data": {
      "text/html": [
       "<div>\n",
       "<style scoped>\n",
       "    .dataframe tbody tr th:only-of-type {\n",
       "        vertical-align: middle;\n",
       "    }\n",
       "\n",
       "    .dataframe tbody tr th {\n",
       "        vertical-align: top;\n",
       "    }\n",
       "\n",
       "    .dataframe thead th {\n",
       "        text-align: right;\n",
       "    }\n",
       "</style>\n",
       "<table border=\"1\" class=\"dataframe\">\n",
       "  <thead>\n",
       "    <tr style=\"text-align: right;\">\n",
       "      <th></th>\n",
       "      <th>Service Provider</th>\n",
       "      <th>LSA</th>\n",
       "      <th>Test_type</th>\n",
       "      <th>Data Speed(Mbps)</th>\n",
       "    </tr>\n",
       "  </thead>\n",
       "  <tbody>\n",
       "    <tr>\n",
       "      <th>0</th>\n",
       "      <td>AIRCEL</td>\n",
       "      <td>Andhra Pradesh</td>\n",
       "      <td>Download</td>\n",
       "      <td>5.550000</td>\n",
       "    </tr>\n",
       "    <tr>\n",
       "      <th>1</th>\n",
       "      <td>AIRCEL</td>\n",
       "      <td>Andhra Pradesh</td>\n",
       "      <td>Upload</td>\n",
       "      <td>4.316667</td>\n",
       "    </tr>\n",
       "    <tr>\n",
       "      <th>2</th>\n",
       "      <td>AIRCEL</td>\n",
       "      <td>Assam</td>\n",
       "      <td>Download</td>\n",
       "      <td>2.870000</td>\n",
       "    </tr>\n",
       "    <tr>\n",
       "      <th>3</th>\n",
       "      <td>AIRCEL</td>\n",
       "      <td>Assam</td>\n",
       "      <td>Upload</td>\n",
       "      <td>1.980000</td>\n",
       "    </tr>\n",
       "    <tr>\n",
       "      <th>4</th>\n",
       "      <td>AIRCEL</td>\n",
       "      <td>Chennai</td>\n",
       "      <td>Download</td>\n",
       "      <td>2.880000</td>\n",
       "    </tr>\n",
       "    <tr>\n",
       "      <th>...</th>\n",
       "      <td>...</td>\n",
       "      <td>...</td>\n",
       "      <td>...</td>\n",
       "      <td>...</td>\n",
       "    </tr>\n",
       "    <tr>\n",
       "      <th>225</th>\n",
       "      <td>VODAFONE</td>\n",
       "      <td>UP East</td>\n",
       "      <td>Upload</td>\n",
       "      <td>3.438921</td>\n",
       "    </tr>\n",
       "    <tr>\n",
       "      <th>226</th>\n",
       "      <td>VODAFONE</td>\n",
       "      <td>UP West</td>\n",
       "      <td>Download</td>\n",
       "      <td>2.381655</td>\n",
       "    </tr>\n",
       "    <tr>\n",
       "      <th>227</th>\n",
       "      <td>VODAFONE</td>\n",
       "      <td>UP West</td>\n",
       "      <td>Upload</td>\n",
       "      <td>3.027841</td>\n",
       "    </tr>\n",
       "    <tr>\n",
       "      <th>228</th>\n",
       "      <td>VODAFONE</td>\n",
       "      <td>West Bengal</td>\n",
       "      <td>Download</td>\n",
       "      <td>5.866910</td>\n",
       "    </tr>\n",
       "    <tr>\n",
       "      <th>229</th>\n",
       "      <td>VODAFONE</td>\n",
       "      <td>West Bengal</td>\n",
       "      <td>Upload</td>\n",
       "      <td>5.123799</td>\n",
       "    </tr>\n",
       "  </tbody>\n",
       "</table>\n",
       "<p>230 rows × 4 columns</p>\n",
       "</div>"
      ],
      "text/plain": [
       "    Service Provider             LSA Test_type  Data Speed(Mbps)\n",
       "0             AIRCEL  Andhra Pradesh  Download          5.550000\n",
       "1             AIRCEL  Andhra Pradesh    Upload          4.316667\n",
       "2             AIRCEL           Assam  Download          2.870000\n",
       "3             AIRCEL           Assam    Upload          1.980000\n",
       "4             AIRCEL         Chennai  Download          2.880000\n",
       "..               ...             ...       ...               ...\n",
       "225         VODAFONE         UP East    Upload          3.438921\n",
       "226         VODAFONE         UP West  Download          2.381655\n",
       "227         VODAFONE         UP West    Upload          3.027841\n",
       "228         VODAFONE     West Bengal  Download          5.866910\n",
       "229         VODAFONE     West Bengal    Upload          5.123799\n",
       "\n",
       "[230 rows x 4 columns]"
      ]
     },
     "execution_count": 60,
     "metadata": {},
     "output_type": "execute_result"
    }
   ],
   "source": [
    "df = df.groupby(['Service Provider', 'LSA', 'Test_type'], as_index= False )['Data Speed(Mbps)'].mean()\n",
    "df"
   ]
  },
  {
   "cell_type": "code",
   "execution_count": 61,
   "id": "052af2f8",
   "metadata": {},
   "outputs": [
    {
     "data": {
      "text/plain": [
       "(230, 4)"
      ]
     },
     "execution_count": 61,
     "metadata": {},
     "output_type": "execute_result"
    }
   ],
   "source": [
    "df.shape"
   ]
  },
  {
   "cell_type": "code",
   "execution_count": 62,
   "id": "c23f3a07",
   "metadata": {},
   "outputs": [
    {
     "data": {
      "image/png": "[encoded data removed]",
      "text/plain": [
       "<Figure size 432x288 with 1 Axes>"
      ]
     },
     "metadata": {
      "needs_background": "light"
     },
     "output_type": "display_data"
    }
   ],
   "source": [
    "#Service provider with highest internet speed\n",
    "results = df.groupby('Service Provider').mean()\n",
    "provider = df['Service Provider'].unique()\n",
    "plt.plot(provider, results['Data Speed(Mbps)'])\n",
    "plt.xticks(provider, rotation ='vertical')\n",
    "plt.ylabel('speed Mbps')\n",
    "plt.xlabel('Service Provider')\n",
    "plt.show()"
   ]
  },
  {
   "cell_type": "code",
   "execution_count": 63,
   "id": "c951b4aa",
   "metadata": {},
   "outputs": [
    {
     "data": {
      "image/png": "[encoded data removed]",
      "text/plain": [
       "<Figure size 432x288 with 1 Axes>"
      ]
     },
     "metadata": {
      "needs_background": "light"
     },
     "output_type": "display_data"
    }
   ],
   "source": [
    "# average upload and download speed\n",
    "state = df.groupby('Test_type').mean()\n",
    "provider = df['Test_type'].unique()\n",
    "plt.bar(provider, state['Data Speed(Mbps)'])\n",
    "plt.xticks(provider, rotation ='vertical')\n",
    "plt.ylabel('speed Mbps')\n",
    "plt.xlabel('Test type')\n",
    "plt.show()"
   ]
  },
  {
   "cell_type": "code",
   "execution_count": 65,
   "id": "07977312",
   "metadata": {},
   "outputs": [
    {
     "data": {
      "image/png": "[encoded data removed]",
      "text/plain": [
       "<Figure size 432x288 with 1 Axes>"
      ]
     },
     "metadata": {
      "needs_background": "light"
     },
     "output_type": "display_data"
    }
   ],
   "source": [
    "# Statewise Internet speed \n",
    "state = df.groupby('LSA').mean()\n",
    "provider = df['LSA'].unique()\n",
    "plt.bar(provider, state['Data Speed(Mbps)'])\n",
    "plt.xticks(provider, rotation ='vertical')\n",
    "plt.ylabel('speed Mbps')\n",
    "plt.xlabel('Service Provider')\n",
    "plt.title('Statewise average intenet speed')\n",
    "plt.show()"
   ]
  },
  {
   "cell_type": "code",
   "execution_count": 52,
   "id": "e7c800aa",
   "metadata": {},
   "outputs": [
    {
     "data": {
      "text/plain": [
       "LSA\n",
       "Haryana             35.288360\n",
       "Himachal Pradesh    31.459570\n",
       "Karnataka           27.568220\n",
       "UP West             23.048286\n",
       "Madhya Pradesh      22.762205\n",
       "Andhra Pradesh      20.599213\n",
       "Kerala              20.201955\n",
       "Mumbai              19.996395\n",
       "Assam               19.781733\n",
       "Orissa              19.348257\n",
       "Name: Data Speed(Mbps), dtype: float64"
      ]
     },
     "execution_count": 52,
     "metadata": {},
     "output_type": "execute_result"
    }
   ],
   "source": [
    "# Top 10 States with highest internet speed\n",
    "df.groupby('LSA').agg({'Data Speed(Mbps)': 'max'})['Data Speed(Mbps)'].nlargest(10)"
   ]
  },
  {
   "cell_type": "code",
   "execution_count": 54,
   "id": "d2b2cbec",
   "metadata": {},
   "outputs": [
    {
     "data": {
      "text/plain": [
       "Service Provider\n",
       "JIO         35.288360\n",
       "IDEA        14.430581\n",
       "AIRTEL      11.965789\n",
       "VODAFONE     9.623424\n",
       "UNINOR       7.320400\n",
       "Name: Data Speed(Mbps), dtype: float64"
      ]
     },
     "execution_count": 54,
     "metadata": {},
     "output_type": "execute_result"
    }
   ],
   "source": [
    "# Top 5 providers with highest internet speed\n",
    "df.groupby('Service Provider').agg({'Data Speed(Mbps)': 'max'})['Data Speed(Mbps)'].nlargest(5)"
   ]
  },
  {
   "cell_type": "code",
   "execution_count": null,
   "id": "0947d22f",
   "metadata": {},
   "outputs": [],
   "source": []
  }
 ],
 "metadata": {
  "kernelspec": {
   "display_name": "Python 3 (ipykernel)",
   "language": "python",
   "name": "python3"
  },
  "language_info": {
   "codemirror_mode": {
    "name": "ipython",
    "version": 3
   },
   "file_extension": ".py",
   "mimetype": "text/x-python",
   "name": "python",
   "nbconvert_exporter": "python",
   "pygments_lexer": "ipython3",
   "version": "3.9.12"
  }
 },
 "nbformat": 4,
 "nbformat_minor": 5
}
