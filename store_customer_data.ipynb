{
 "cells": [
  {
   "cell_type": "code",
   "execution_count": 11,
   "id": "3d27f09b",
   "metadata": {},
   "outputs": [],
   "source": [
    "import pandas as pd\n",
    "import matplotlib.pyplot as plt\n",
    "%matplotlib inline\n",
    "import numpy as np\n",
    "import seaborn as sns"
   ]
  },
  {
   "cell_type": "code",
   "execution_count": 12,
   "id": "51a92cd5",
   "metadata": {},
   "outputs": [],
   "source": [
    "df = pd.read_csv(\"./online_store_customer_data.csv\")"
   ]
  },
  {
   "cell_type": "code",
   "execution_count": 13,
   "id": "efe21000",
   "metadata": {},
   "outputs": [
    {
     "data": {
      "text/html": [
       "<div>\n",
       "<style scoped>\n",
       "    .dataframe tbody tr th:only-of-type {\n",
       "        vertical-align: middle;\n",
       "    }\n",
       "\n",
       "    .dataframe tbody tr th {\n",
       "        vertical-align: top;\n",
       "    }\n",
       "\n",
       "    .dataframe thead th {\n",
       "        text-align: right;\n",
       "    }\n",
       "</style>\n",
       "<table border=\"1\" class=\"dataframe\">\n",
       "  <thead>\n",
       "    <tr style=\"text-align: right;\">\n",
       "      <th></th>\n",
       "      <th>Transaction_date</th>\n",
       "      <th>Transaction_ID</th>\n",
       "      <th>Gender</th>\n",
       "      <th>Age</th>\n",
       "      <th>Marital_status</th>\n",
       "      <th>State_names</th>\n",
       "      <th>Segment</th>\n",
       "      <th>Employees_status</th>\n",
       "      <th>Payment_method</th>\n",
       "      <th>Referal</th>\n",
       "      <th>Amount_spent</th>\n",
       "    </tr>\n",
       "  </thead>\n",
       "  <tbody>\n",
       "    <tr>\n",
       "      <th>0</th>\n",
       "      <td>1/1/2019</td>\n",
       "      <td>151200</td>\n",
       "      <td>Female</td>\n",
       "      <td>19.0</td>\n",
       "      <td>Single</td>\n",
       "      <td>Kansas</td>\n",
       "      <td>Basic</td>\n",
       "      <td>Unemployment</td>\n",
       "      <td>Other</td>\n",
       "      <td>1.0</td>\n",
       "      <td>2051.36</td>\n",
       "    </tr>\n",
       "    <tr>\n",
       "      <th>1</th>\n",
       "      <td>1/1/2019</td>\n",
       "      <td>151201</td>\n",
       "      <td>Male</td>\n",
       "      <td>49.0</td>\n",
       "      <td>Single</td>\n",
       "      <td>Illinois</td>\n",
       "      <td>Basic</td>\n",
       "      <td>self-employed</td>\n",
       "      <td>Card</td>\n",
       "      <td>0.0</td>\n",
       "      <td>544.04</td>\n",
       "    </tr>\n",
       "    <tr>\n",
       "      <th>2</th>\n",
       "      <td>1/1/2019</td>\n",
       "      <td>151202</td>\n",
       "      <td>Male</td>\n",
       "      <td>63.0</td>\n",
       "      <td>Married</td>\n",
       "      <td>New Mexico</td>\n",
       "      <td>Basic</td>\n",
       "      <td>workers</td>\n",
       "      <td>PayPal</td>\n",
       "      <td>1.0</td>\n",
       "      <td>1572.60</td>\n",
       "    </tr>\n",
       "    <tr>\n",
       "      <th>3</th>\n",
       "      <td>1/1/2019</td>\n",
       "      <td>151203</td>\n",
       "      <td>NaN</td>\n",
       "      <td>18.0</td>\n",
       "      <td>Single</td>\n",
       "      <td>Virginia</td>\n",
       "      <td>Platinum</td>\n",
       "      <td>workers</td>\n",
       "      <td>Card</td>\n",
       "      <td>1.0</td>\n",
       "      <td>1199.79</td>\n",
       "    </tr>\n",
       "    <tr>\n",
       "      <th>4</th>\n",
       "      <td>1/1/2019</td>\n",
       "      <td>151204</td>\n",
       "      <td>Male</td>\n",
       "      <td>27.0</td>\n",
       "      <td>Single</td>\n",
       "      <td>Connecticut</td>\n",
       "      <td>Basic</td>\n",
       "      <td>self-employed</td>\n",
       "      <td>Card</td>\n",
       "      <td>0.0</td>\n",
       "      <td>NaN</td>\n",
       "    </tr>\n",
       "  </tbody>\n",
       "</table>\n",
       "</div>"
      ],
      "text/plain": [
       "  Transaction_date  Transaction_ID  Gender   Age Marital_status  State_names  \\\n",
       "0         1/1/2019          151200  Female  19.0         Single       Kansas   \n",
       "1         1/1/2019          151201    Male  49.0         Single     Illinois   \n",
       "2         1/1/2019          151202    Male  63.0        Married   New Mexico   \n",
       "3         1/1/2019          151203     NaN  18.0         Single     Virginia   \n",
       "4         1/1/2019          151204    Male  27.0         Single  Connecticut   \n",
       "\n",
       "    Segment Employees_status Payment_method  Referal  Amount_spent  \n",
       "0     Basic     Unemployment          Other      1.0       2051.36  \n",
       "1     Basic    self-employed           Card      0.0        544.04  \n",
       "2     Basic          workers         PayPal      1.0       1572.60  \n",
       "3  Platinum          workers           Card      1.0       1199.79  \n",
       "4     Basic    self-employed           Card      0.0           NaN  "
      ]
     },
     "execution_count": 13,
     "metadata": {},
     "output_type": "execute_result"
    }
   ],
   "source": [
    "df.head()"
   ]
  },
  {
   "cell_type": "code",
   "execution_count": 14,
   "id": "376847bb",
   "metadata": {},
   "outputs": [],
   "source": [
    "df = df.dropna() # dropping NaN values\n"
   ]
  },
  {
   "cell_type": "code",
   "execution_count": 15,
   "id": "eb87d254",
   "metadata": {},
   "outputs": [
    {
     "data": {
      "text/plain": [
       "(2044, 11)"
      ]
     },
     "execution_count": 15,
     "metadata": {},
     "output_type": "execute_result"
    }
   ],
   "source": [
    "df.shape"
   ]
  },
  {
   "cell_type": "code",
   "execution_count": 16,
   "id": "f23a5c26",
   "metadata": {},
   "outputs": [
    {
     "name": "stdout",
     "output_type": "stream",
     "text": [
      "<class 'pandas.core.frame.DataFrame'>\n",
      "Int64Index: 2044 entries, 0 to 2511\n",
      "Data columns (total 11 columns):\n",
      " #   Column            Non-Null Count  Dtype  \n",
      "---  ------            --------------  -----  \n",
      " 0   Transaction_date  2044 non-null   object \n",
      " 1   Transaction_ID    2044 non-null   int64  \n",
      " 2   Gender            2044 non-null   object \n",
      " 3   Age               2044 non-null   float64\n",
      " 4   Marital_status    2044 non-null   object \n",
      " 5   State_names       2044 non-null   object \n",
      " 6   Segment           2044 non-null   object \n",
      " 7   Employees_status  2044 non-null   object \n",
      " 8   Payment_method    2044 non-null   object \n",
      " 9   Referal           2044 non-null   float64\n",
      " 10  Amount_spent      2044 non-null   float64\n",
      "dtypes: float64(3), int64(1), object(7)\n",
      "memory usage: 191.6+ KB\n"
     ]
    }
   ],
   "source": [
    "df.info()"
   ]
  },
  {
   "cell_type": "code",
   "execution_count": 38,
   "id": "ad2e7807",
   "metadata": {},
   "outputs": [
    {
     "data": {
      "text/plain": [
       "State_names\n",
       "New Mexico        2999.98\n",
       "Arizona           2998.62\n",
       "North Carolina    2997.15\n",
       "Illinois          2996.82\n",
       "Pennsylvania      2995.73\n",
       "Name: Amount_spent, dtype: float64"
      ]
     },
     "execution_count": 38,
     "metadata": {},
     "output_type": "execute_result"
    }
   ],
   "source": [
    "# Top 5 states with highest average sales in USD\n",
    "df.groupby('State_names').agg({'Amount_spent': 'max'})['Amount_spent'].nlargest(5)"
   ]
  },
  {
   "cell_type": "code",
   "execution_count": 35,
   "id": "10428de8",
   "metadata": {},
   "outputs": [
    {
     "data": {
      "image/png": "[encoded data removed]",
      "text/plain": [
       "<Figure size 432x288 with 1 Axes>"
      ]
     },
     "metadata": {
      "needs_background": "light"
     },
     "output_type": "display_data"
    }
   ],
   "source": [
    "\n",
    "results = df.groupby('Gender').sum()\n",
    "gender = df['Gender'].unique()\n",
    "plt.bar(gender, results['Amount_spent'])\n",
    "plt.xticks(gender, rotation ='vertical', size= 10)\n",
    "plt.ylabel('sales in million USD')\n",
    "plt.xlabel('Gender')\n",
    "plt.title(' Sales based on Gender')\n",
    "plt.show()"
   ]
  },
  {
   "cell_type": "code",
   "execution_count": 43,
   "id": "606abc57",
   "metadata": {},
   "outputs": [
    {
     "data": {
      "image/png": "[encoded data removed]",
      "text/plain": [
       "<Figure size 432x288 with 1 Axes>"
      ]
     },
     "metadata": {
      "needs_background": "light"
     },
     "output_type": "display_data"
    }
   ],
   "source": [
    "results = df.groupby('Employees_status').sum()\n",
    "status = df['Employees_status'].unique()\n",
    "plt.bar(status, results['Amount_spent'])\n",
    "plt.xticks(status, rotation ='vertical')\n",
    "plt.ylabel('sales in million USD')\n",
    "plt.xlabel('Employees_status')\n",
    "plt.title(' Sales based on Employee Status')\n",
    "plt.show()"
   ]
  },
  {
   "cell_type": "code",
   "execution_count": 33,
   "id": "23045e2f",
   "metadata": {},
   "outputs": [
    {
     "data": {
      "image/png": "[encoded data removed]",
      "text/plain": [
       "<Figure size 432x288 with 1 Axes>"
      ]
     },
     "metadata": {
      "needs_background": "light"
     },
     "output_type": "display_data"
    }
   ],
   "source": [
    "results = df.groupby('Payment_method').sum()\n",
    "method = df['Payment_method'].unique()\n",
    "plt.bar(method, results['Amount_spent'])\n",
    "plt.xticks(method, rotation ='vertical')\n",
    "plt.ylabel('sales in million USD')\n",
    "plt.xlabel('Payment_method')\n",
    "plt.title(' Sales based on Payment method')\n",
    "plt.show()"
   ]
  },
  {
   "cell_type": "code",
   "execution_count": 41,
   "id": "c4e93638",
   "metadata": {},
   "outputs": [
    {
     "data": {
      "image/png": "[encoded data removed]",
      "text/plain": [
       "<Figure size 432x288 with 1 Axes>"
      ]
     },
     "metadata": {
      "needs_background": "light"
     },
     "output_type": "display_data"
    }
   ],
   "source": [
    "results = df.groupby('Marital_status').sum()\n",
    "status = df['Marital_status'].unique()\n",
    "plt.bar(status, results['Amount_spent'])\n",
    "plt.xticks(status, rotation ='vertical')\n",
    "plt.ylabel('sales in million USD')\n",
    "plt.xlabel('Marital_status')\n",
    "plt.title(' Sales based on Maritial status')\n",
    "plt.show()"
   ]
  },
  {
   "cell_type": "code",
   "execution_count": null,
   "id": "5beb938b",
   "metadata": {},
   "outputs": [],
   "source": []
  }
 ],
 "metadata": {
  "kernelspec": {
   "display_name": "Python 3 (ipykernel)",
   "language": "python",
   "name": "python3"
  },
  "language_info": {
   "codemirror_mode": {
    "name": "ipython",
    "version": 3
   },
   "file_extension": ".py",
   "mimetype": "text/x-python",
   "name": "python",
   "nbconvert_exporter": "python",
   "pygments_lexer": "ipython3",
   "version": "3.9.12"
  }
 },
 "nbformat": 4,
 "nbformat_minor": 5
}
