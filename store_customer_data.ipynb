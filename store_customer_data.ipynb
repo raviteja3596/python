{
 "cells": [
  {
   "cell_type": "code",
   "execution_count": 47,
   "id": "3d27f09b",
   "metadata": {},
   "outputs": [],
   "source": [
    "import pandas as pd\n",
    "import matplotlib.pyplot as plt"
   ]
  },
  {
   "cell_type": "code",
   "execution_count": 48,
   "id": "51a92cd5",
   "metadata": {},
   "outputs": [],
   "source": [
    "df = pd.read_csv(\"./online_store_customer_data.csv\")"
   ]
  },
  {
   "cell_type": "code",
   "execution_count": 49,
   "id": "efe21000",
   "metadata": {},
   "outputs": [
    {
     "data": {
      "text/html": [
       "<div>\n",
       "<style scoped>\n",
       "    .dataframe tbody tr th:only-of-type {\n",
       "        vertical-align: middle;\n",
       "    }\n",
       "\n",
       "    .dataframe tbody tr th {\n",
       "        vertical-align: top;\n",
       "    }\n",
       "\n",
       "    .dataframe thead th {\n",
       "        text-align: right;\n",
       "    }\n",
       "</style>\n",
       "<table border=\"1\" class=\"dataframe\">\n",
       "  <thead>\n",
       "    <tr style=\"text-align: right;\">\n",
       "      <th></th>\n",
       "      <th>Transaction_date</th>\n",
       "      <th>Transaction_ID</th>\n",
       "      <th>Gender</th>\n",
       "      <th>Age</th>\n",
       "      <th>Marital_status</th>\n",
       "      <th>State_names</th>\n",
       "      <th>Segment</th>\n",
       "      <th>Employees_status</th>\n",
       "      <th>Payment_method</th>\n",
       "      <th>Referal</th>\n",
       "      <th>Amount_spent</th>\n",
       "    </tr>\n",
       "  </thead>\n",
       "  <tbody>\n",
       "    <tr>\n",
       "      <th>0</th>\n",
       "      <td>1/1/2019</td>\n",
       "      <td>151200</td>\n",
       "      <td>Female</td>\n",
       "      <td>19.0</td>\n",
       "      <td>Single</td>\n",
       "      <td>Kansas</td>\n",
       "      <td>Basic</td>\n",
       "      <td>Unemployment</td>\n",
       "      <td>Other</td>\n",
       "      <td>1.0</td>\n",
       "      <td>2051.36</td>\n",
       "    </tr>\n",
       "    <tr>\n",
       "      <th>1</th>\n",
       "      <td>1/1/2019</td>\n",
       "      <td>151201</td>\n",
       "      <td>Male</td>\n",
       "      <td>49.0</td>\n",
       "      <td>Single</td>\n",
       "      <td>Illinois</td>\n",
       "      <td>Basic</td>\n",
       "      <td>self-employed</td>\n",
       "      <td>Card</td>\n",
       "      <td>0.0</td>\n",
       "      <td>544.04</td>\n",
       "    </tr>\n",
       "    <tr>\n",
       "      <th>2</th>\n",
       "      <td>1/1/2019</td>\n",
       "      <td>151202</td>\n",
       "      <td>Male</td>\n",
       "      <td>63.0</td>\n",
       "      <td>Married</td>\n",
       "      <td>New Mexico</td>\n",
       "      <td>Basic</td>\n",
       "      <td>workers</td>\n",
       "      <td>PayPal</td>\n",
       "      <td>1.0</td>\n",
       "      <td>1572.60</td>\n",
       "    </tr>\n",
       "    <tr>\n",
       "      <th>3</th>\n",
       "      <td>1/1/2019</td>\n",
       "      <td>151203</td>\n",
       "      <td>NaN</td>\n",
       "      <td>18.0</td>\n",
       "      <td>Single</td>\n",
       "      <td>Virginia</td>\n",
       "      <td>Platinum</td>\n",
       "      <td>workers</td>\n",
       "      <td>Card</td>\n",
       "      <td>1.0</td>\n",
       "      <td>1199.79</td>\n",
       "    </tr>\n",
       "    <tr>\n",
       "      <th>4</th>\n",
       "      <td>1/1/2019</td>\n",
       "      <td>151204</td>\n",
       "      <td>Male</td>\n",
       "      <td>27.0</td>\n",
       "      <td>Single</td>\n",
       "      <td>Connecticut</td>\n",
       "      <td>Basic</td>\n",
       "      <td>self-employed</td>\n",
       "      <td>Card</td>\n",
       "      <td>0.0</td>\n",
       "      <td>NaN</td>\n",
       "    </tr>\n",
       "  </tbody>\n",
       "</table>\n",
       "</div>"
      ],
      "text/plain": [
       "  Transaction_date  Transaction_ID  Gender   Age Marital_status  State_names  \\\n",
       "0         1/1/2019          151200  Female  19.0         Single       Kansas   \n",
       "1         1/1/2019          151201    Male  49.0         Single     Illinois   \n",
       "2         1/1/2019          151202    Male  63.0        Married   New Mexico   \n",
       "3         1/1/2019          151203     NaN  18.0         Single     Virginia   \n",
       "4         1/1/2019          151204    Male  27.0         Single  Connecticut   \n",
       "\n",
       "    Segment Employees_status Payment_method  Referal  Amount_spent  \n",
       "0     Basic     Unemployment          Other      1.0       2051.36  \n",
       "1     Basic    self-employed           Card      0.0        544.04  \n",
       "2     Basic          workers         PayPal      1.0       1572.60  \n",
       "3  Platinum          workers           Card      1.0       1199.79  \n",
       "4     Basic    self-employed           Card      0.0           NaN  "
      ]
     },
     "execution_count": 49,
     "metadata": {},
     "output_type": "execute_result"
    }
   ],
   "source": [
    "df.head()"
   ]
  },
  {
   "cell_type": "code",
   "execution_count": 55,
   "id": "376847bb",
   "metadata": {},
   "outputs": [],
   "source": [
    "df = df.dropna()"
   ]
  },
  {
   "cell_type": "markdown",
   "id": "9d67cba4",
   "metadata": {},
   "source": [
    "#### State with highest number of sales"
   ]
  },
  {
   "cell_type": "code",
   "execution_count": 85,
   "id": "c0a5ecb0",
   "metadata": {},
   "outputs": [],
   "source": [
    "results = df.groupby('State_names').sum()"
   ]
  },
  {
   "cell_type": "code",
   "execution_count": 72,
   "id": "e5bb93c0",
   "metadata": {},
   "outputs": [
    {
     "data": {
      "image/png": "[encoded data removed]",
      "text/plain": [
       "<Figure size 432x288 with 1 Axes>"
      ]
     },
     "metadata": {
      "needs_background": "light"
     },
     "output_type": "display_data"
    }
   ],
   "source": [
    "state = df['State_names'].unique()\n",
    "plt.bar(state, results['Amount_spent'])\n",
    "plt.xticks(state, rotation ='vertical', size= 10)\n",
    "plt.ylabel('sales in USD')\n",
    "plt.xlabel('states')\n",
    "plt.show()"
   ]
  },
  {
   "cell_type": "code",
   "execution_count": 80,
   "id": "10428de8",
   "metadata": {},
   "outputs": [
    {
     "data": {
      "image/png": "[encoded data removed]",
      "text/plain": [
       "<Figure size 432x288 with 1 Axes>"
      ]
     },
     "metadata": {
      "needs_background": "light"
     },
     "output_type": "display_data"
    }
   ],
   "source": [
    "\n",
    "results = df.groupby('Gender').sum()\n",
    "gender = df['Gender'].unique()\n",
    "plt.bar(gender, results['Amount_spent'])\n",
    "plt.xticks(gender, rotation ='vertical', size= 10)\n",
    "plt.ylabel('sales')\n",
    "plt.xlabel('Gender')\n",
    "plt.show()"
   ]
  },
  {
   "cell_type": "code",
   "execution_count": 81,
   "id": "606abc57",
   "metadata": {},
   "outputs": [
    {
     "data": {
      "image/png": "[encoded data removed]",
      "text/plain": [
       "<Figure size 432x288 with 1 Axes>"
      ]
     },
     "metadata": {
      "needs_background": "light"
     },
     "output_type": "display_data"
    }
   ],
   "source": [
    "results = df.groupby('Employees_status').sum()\n",
    "status = df['Employees_status'].unique()\n",
    "plt.bar(status, results['Amount_spent'])\n",
    "plt.xticks(status, rotation ='vertical')\n",
    "plt.ylabel('sales')\n",
    "plt.xlabel('Employees_status')\n",
    "plt.show()"
   ]
  },
  {
   "cell_type": "code",
   "execution_count": 82,
   "id": "cb4f73e8",
   "metadata": {},
   "outputs": [
    {
     "data": {
      "text/html": [
       "<div>\n",
       "<style scoped>\n",
       "    .dataframe tbody tr th:only-of-type {\n",
       "        vertical-align: middle;\n",
       "    }\n",
       "\n",
       "    .dataframe tbody tr th {\n",
       "        vertical-align: top;\n",
       "    }\n",
       "\n",
       "    .dataframe thead th {\n",
       "        text-align: right;\n",
       "    }\n",
       "</style>\n",
       "<table border=\"1\" class=\"dataframe\">\n",
       "  <thead>\n",
       "    <tr style=\"text-align: right;\">\n",
       "      <th></th>\n",
       "      <th>Transaction_date</th>\n",
       "      <th>Transaction_ID</th>\n",
       "      <th>Gender</th>\n",
       "      <th>Age</th>\n",
       "      <th>Marital_status</th>\n",
       "      <th>State_names</th>\n",
       "      <th>Segment</th>\n",
       "      <th>Employees_status</th>\n",
       "      <th>Payment_method</th>\n",
       "      <th>Referal</th>\n",
       "      <th>Amount_spent</th>\n",
       "    </tr>\n",
       "  </thead>\n",
       "  <tbody>\n",
       "    <tr>\n",
       "      <th>0</th>\n",
       "      <td>1/1/2019</td>\n",
       "      <td>151200</td>\n",
       "      <td>Female</td>\n",
       "      <td>19.0</td>\n",
       "      <td>Single</td>\n",
       "      <td>Kansas</td>\n",
       "      <td>Basic</td>\n",
       "      <td>Unemployment</td>\n",
       "      <td>Other</td>\n",
       "      <td>1.0</td>\n",
       "      <td>2051.36</td>\n",
       "    </tr>\n",
       "    <tr>\n",
       "      <th>1</th>\n",
       "      <td>1/1/2019</td>\n",
       "      <td>151201</td>\n",
       "      <td>Male</td>\n",
       "      <td>49.0</td>\n",
       "      <td>Single</td>\n",
       "      <td>Illinois</td>\n",
       "      <td>Basic</td>\n",
       "      <td>self-employed</td>\n",
       "      <td>Card</td>\n",
       "      <td>0.0</td>\n",
       "      <td>544.04</td>\n",
       "    </tr>\n",
       "    <tr>\n",
       "      <th>2</th>\n",
       "      <td>1/1/2019</td>\n",
       "      <td>151202</td>\n",
       "      <td>Male</td>\n",
       "      <td>63.0</td>\n",
       "      <td>Married</td>\n",
       "      <td>New Mexico</td>\n",
       "      <td>Basic</td>\n",
       "      <td>workers</td>\n",
       "      <td>PayPal</td>\n",
       "      <td>1.0</td>\n",
       "      <td>1572.60</td>\n",
       "    </tr>\n",
       "    <tr>\n",
       "      <th>5</th>\n",
       "      <td>1/3/2019</td>\n",
       "      <td>151205</td>\n",
       "      <td>Male</td>\n",
       "      <td>71.0</td>\n",
       "      <td>Single</td>\n",
       "      <td>Hawaii</td>\n",
       "      <td>Basic</td>\n",
       "      <td>Employees</td>\n",
       "      <td>PayPal</td>\n",
       "      <td>1.0</td>\n",
       "      <td>2922.66</td>\n",
       "    </tr>\n",
       "    <tr>\n",
       "      <th>6</th>\n",
       "      <td>1/3/2019</td>\n",
       "      <td>151206</td>\n",
       "      <td>Female</td>\n",
       "      <td>34.0</td>\n",
       "      <td>Married</td>\n",
       "      <td>New Mexico</td>\n",
       "      <td>Platinum</td>\n",
       "      <td>Employees</td>\n",
       "      <td>PayPal</td>\n",
       "      <td>1.0</td>\n",
       "      <td>1481.42</td>\n",
       "    </tr>\n",
       "    <tr>\n",
       "      <th>...</th>\n",
       "      <td>...</td>\n",
       "      <td>...</td>\n",
       "      <td>...</td>\n",
       "      <td>...</td>\n",
       "      <td>...</td>\n",
       "      <td>...</td>\n",
       "      <td>...</td>\n",
       "      <td>...</td>\n",
       "      <td>...</td>\n",
       "      <td>...</td>\n",
       "      <td>...</td>\n",
       "    </tr>\n",
       "    <tr>\n",
       "      <th>2506</th>\n",
       "      <td>4/30/2021</td>\n",
       "      <td>153694</td>\n",
       "      <td>Male</td>\n",
       "      <td>34.0</td>\n",
       "      <td>Single</td>\n",
       "      <td>Florida</td>\n",
       "      <td>Missing</td>\n",
       "      <td>Employees</td>\n",
       "      <td>Other</td>\n",
       "      <td>1.0</td>\n",
       "      <td>286.82</td>\n",
       "    </tr>\n",
       "    <tr>\n",
       "      <th>2507</th>\n",
       "      <td>5/1/2021</td>\n",
       "      <td>153695</td>\n",
       "      <td>Female</td>\n",
       "      <td>57.0</td>\n",
       "      <td>Single</td>\n",
       "      <td>South Carolina</td>\n",
       "      <td>Platinum</td>\n",
       "      <td>self-employed</td>\n",
       "      <td>Card</td>\n",
       "      <td>0.0</td>\n",
       "      <td>150.10</td>\n",
       "    </tr>\n",
       "    <tr>\n",
       "      <th>2508</th>\n",
       "      <td>5/1/2021</td>\n",
       "      <td>153696</td>\n",
       "      <td>Female</td>\n",
       "      <td>36.0</td>\n",
       "      <td>Married</td>\n",
       "      <td>Hawaii</td>\n",
       "      <td>Silver</td>\n",
       "      <td>self-employed</td>\n",
       "      <td>PayPal</td>\n",
       "      <td>1.0</td>\n",
       "      <td>708.88</td>\n",
       "    </tr>\n",
       "    <tr>\n",
       "      <th>2509</th>\n",
       "      <td>5/1/2021</td>\n",
       "      <td>153697</td>\n",
       "      <td>Male</td>\n",
       "      <td>22.0</td>\n",
       "      <td>Single</td>\n",
       "      <td>South Carolina</td>\n",
       "      <td>Basic</td>\n",
       "      <td>workers</td>\n",
       "      <td>PayPal</td>\n",
       "      <td>1.0</td>\n",
       "      <td>2030.07</td>\n",
       "    </tr>\n",
       "    <tr>\n",
       "      <th>2511</th>\n",
       "      <td>5/1/2021</td>\n",
       "      <td>153699</td>\n",
       "      <td>Male</td>\n",
       "      <td>48.0</td>\n",
       "      <td>Single</td>\n",
       "      <td>California</td>\n",
       "      <td>Silver</td>\n",
       "      <td>workers</td>\n",
       "      <td>PayPal</td>\n",
       "      <td>1.0</td>\n",
       "      <td>1073.15</td>\n",
       "    </tr>\n",
       "  </tbody>\n",
       "</table>\n",
       "<p>2044 rows × 11 columns</p>\n",
       "</div>"
      ],
      "text/plain": [
       "     Transaction_date  Transaction_ID  Gender   Age Marital_status  \\\n",
       "0            1/1/2019          151200  Female  19.0         Single   \n",
       "1            1/1/2019          151201    Male  49.0         Single   \n",
       "2            1/1/2019          151202    Male  63.0        Married   \n",
       "5            1/3/2019          151205    Male  71.0         Single   \n",
       "6            1/3/2019          151206  Female  34.0        Married   \n",
       "...               ...             ...     ...   ...            ...   \n",
       "2506        4/30/2021          153694    Male  34.0         Single   \n",
       "2507         5/1/2021          153695  Female  57.0         Single   \n",
       "2508         5/1/2021          153696  Female  36.0        Married   \n",
       "2509         5/1/2021          153697    Male  22.0         Single   \n",
       "2511         5/1/2021          153699    Male  48.0         Single   \n",
       "\n",
       "         State_names   Segment Employees_status Payment_method  Referal  \\\n",
       "0             Kansas     Basic     Unemployment          Other      1.0   \n",
       "1           Illinois     Basic    self-employed           Card      0.0   \n",
       "2         New Mexico     Basic          workers         PayPal      1.0   \n",
       "5             Hawaii     Basic        Employees         PayPal      1.0   \n",
       "6         New Mexico  Platinum        Employees         PayPal      1.0   \n",
       "...              ...       ...              ...            ...      ...   \n",
       "2506         Florida   Missing        Employees          Other      1.0   \n",
       "2507  South Carolina  Platinum    self-employed           Card      0.0   \n",
       "2508          Hawaii    Silver    self-employed         PayPal      1.0   \n",
       "2509  South Carolina     Basic          workers         PayPal      1.0   \n",
       "2511      California    Silver          workers         PayPal      1.0   \n",
       "\n",
       "      Amount_spent  \n",
       "0          2051.36  \n",
       "1           544.04  \n",
       "2          1572.60  \n",
       "5          2922.66  \n",
       "6          1481.42  \n",
       "...            ...  \n",
       "2506        286.82  \n",
       "2507        150.10  \n",
       "2508        708.88  \n",
       "2509       2030.07  \n",
       "2511       1073.15  \n",
       "\n",
       "[2044 rows x 11 columns]"
      ]
     },
     "execution_count": 82,
     "metadata": {},
     "output_type": "execute_result"
    }
   ],
   "source": [
    "df"
   ]
  },
  {
   "cell_type": "code",
   "execution_count": 83,
   "id": "23045e2f",
   "metadata": {},
   "outputs": [
    {
     "data": {
      "image/png": "[encoded data removed]",
      "text/plain": [
       "<Figure size 432x288 with 1 Axes>"
      ]
     },
     "metadata": {
      "needs_background": "light"
     },
     "output_type": "display_data"
    }
   ],
   "source": [
    "results = df.groupby('Payment_method').sum()\n",
    "method = df['Payment_method'].unique()\n",
    "plt.bar(method, results['Amount_spent'])\n",
    "plt.xticks(method, rotation ='vertical')\n",
    "plt.ylabel('sales')\n",
    "plt.xlabel('Payment_method')\n",
    "plt.show()"
   ]
  },
  {
   "cell_type": "code",
   "execution_count": 84,
   "id": "c4e93638",
   "metadata": {},
   "outputs": [
    {
     "data": {
      "image/png": "[encoded data removed]",
      "text/plain": [
       "<Figure size 432x288 with 1 Axes>"
      ]
     },
     "metadata": {
      "needs_background": "light"
     },
     "output_type": "display_data"
    }
   ],
   "source": [
    "results = df.groupby('Marital_status').sum()\n",
    "status = df['Marital_status'].unique()\n",
    "plt.bar(status, results['Amount_spent'])\n",
    "plt.xticks(status, rotation ='vertical')\n",
    "plt.ylabel('sales')\n",
    "plt.xlabel('Marital_status')\n",
    "plt.show()"
   ]
  },
  {
   "cell_type": "code",
   "execution_count": null,
   "id": "5beb938b",
   "metadata": {},
   "outputs": [],
   "source": []
  }
 ],
 "metadata": {
  "kernelspec": {
   "display_name": "Python 3 (ipykernel)",
   "language": "python",
   "name": "python3"
  },
  "language_info": {
   "codemirror_mode": {
    "name": "ipython",
    "version": 3
   },
   "file_extension": ".py",
   "mimetype": "text/x-python",
   "name": "python",
   "nbconvert_exporter": "python",
   "pygments_lexer": "ipython3",
   "version": "3.9.12"
  }
 },
 "nbformat": 4,
 "nbformat_minor": 5
}
